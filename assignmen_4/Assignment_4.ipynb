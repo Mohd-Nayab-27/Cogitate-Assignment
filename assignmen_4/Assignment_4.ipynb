{
 "cells": [
  {
   "cell_type": "code",
   "execution_count": 1,
   "id": "12d44042",
   "metadata": {},
   "outputs": [
    {
     "name": "stdout",
     "output_type": "stream",
     "text": [
      "Requirement already satisfied: requests in c:\\users\\mrk_lenovo_pc\\anaconda3\\lib\\site-packages (2.31.0)\n",
      "Requirement already satisfied: beautifulsoup4 in c:\\users\\mrk_lenovo_pc\\anaconda3\\lib\\site-packages (4.12.2)\n",
      "Requirement already satisfied: colorthief in c:\\users\\mrk_lenovo_pc\\anaconda3\\lib\\site-packages (0.2.1)\n",
      "Requirement already satisfied: selenium in c:\\users\\mrk_lenovo_pc\\anaconda3\\lib\\site-packages (4.22.0)\n",
      "Requirement already satisfied: charset-normalizer<4,>=2 in c:\\users\\mrk_lenovo_pc\\anaconda3\\lib\\site-packages (from requests) (2.0.4)\n",
      "Requirement already satisfied: idna<4,>=2.5 in c:\\users\\mrk_lenovo_pc\\anaconda3\\lib\\site-packages (from requests) (3.4)\n",
      "Requirement already satisfied: urllib3<3,>=1.21.1 in c:\\users\\mrk_lenovo_pc\\anaconda3\\lib\\site-packages (from requests) (1.26.16)\n",
      "Requirement already satisfied: certifi>=2017.4.17 in c:\\users\\mrk_lenovo_pc\\anaconda3\\lib\\site-packages (from requests) (2024.6.2)\n",
      "Requirement already satisfied: soupsieve>1.2 in c:\\users\\mrk_lenovo_pc\\anaconda3\\lib\\site-packages (from beautifulsoup4) (2.4)\n",
      "Requirement already satisfied: Pillow in c:\\users\\mrk_lenovo_pc\\anaconda3\\lib\\site-packages (from colorthief) (10.2.0)\n",
      "Requirement already satisfied: trio~=0.17 in c:\\users\\mrk_lenovo_pc\\anaconda3\\lib\\site-packages (from selenium) (0.25.1)\n",
      "Requirement already satisfied: trio-websocket~=0.9 in c:\\users\\mrk_lenovo_pc\\anaconda3\\lib\\site-packages (from selenium) (0.11.1)\n",
      "Requirement already satisfied: typing_extensions>=4.9.0 in c:\\users\\mrk_lenovo_pc\\anaconda3\\lib\\site-packages (from selenium) (4.11.0)\n",
      "Requirement already satisfied: websocket-client>=1.8.0 in c:\\users\\mrk_lenovo_pc\\anaconda3\\lib\\site-packages (from selenium) (1.8.0)\n",
      "Collecting attrs>=23.2.0 (from trio~=0.17->selenium)\n",
      "  Obtaining dependency information for attrs>=23.2.0 from https://files.pythonhosted.org/packages/e0/44/827b2a91a5816512fcaf3cc4ebc465ccd5d598c45cefa6703fcf4a79018f/attrs-23.2.0-py3-none-any.whl.metadata\n",
      "  Using cached attrs-23.2.0-py3-none-any.whl.metadata (9.5 kB)\n",
      "Requirement already satisfied: sortedcontainers in c:\\users\\mrk_lenovo_pc\\anaconda3\\lib\\site-packages (from trio~=0.17->selenium) (2.4.0)\n",
      "Requirement already satisfied: outcome in c:\\users\\mrk_lenovo_pc\\anaconda3\\lib\\site-packages (from trio~=0.17->selenium) (1.3.0.post0)\n",
      "Requirement already satisfied: sniffio>=1.3.0 in c:\\users\\mrk_lenovo_pc\\anaconda3\\lib\\site-packages (from trio~=0.17->selenium) (1.3.0)\n",
      "Requirement already satisfied: cffi>=1.14 in c:\\users\\mrk_lenovo_pc\\anaconda3\\lib\\site-packages (from trio~=0.17->selenium) (1.15.1)\n",
      "Requirement already satisfied: wsproto>=0.14 in c:\\users\\mrk_lenovo_pc\\anaconda3\\lib\\site-packages (from trio-websocket~=0.9->selenium) (1.2.0)\n",
      "Requirement already satisfied: PySocks!=1.5.7,<2.0,>=1.5.6 in c:\\users\\mrk_lenovo_pc\\anaconda3\\lib\\site-packages (from urllib3<3,>=1.21.1->requests) (1.7.1)\n",
      "Requirement already satisfied: pycparser in c:\\users\\mrk_lenovo_pc\\anaconda3\\lib\\site-packages (from cffi>=1.14->trio~=0.17->selenium) (2.21)\n",
      "Requirement already satisfied: h11<1,>=0.9.0 in c:\\users\\mrk_lenovo_pc\\anaconda3\\lib\\site-packages (from wsproto>=0.14->trio-websocket~=0.9->selenium) (0.14.0)\n",
      "Using cached attrs-23.2.0-py3-none-any.whl (60 kB)\n",
      "Installing collected packages: attrs\n",
      "  Attempting uninstall: attrs\n",
      "    Found existing installation: attrs 23.1.0\n",
      "    Uninstalling attrs-23.1.0:\n",
      "      Successfully uninstalled attrs-23.1.0\n",
      "Successfully installed attrs-23.2.0\n"
     ]
    }
   ],
   "source": [
    "!pip install requests beautifulsoup4 colorthief selenium"
   ]
  },
  {
   "cell_type": "code",
   "execution_count": 8,
   "id": "caf955d0",
   "metadata": {
    "scrolled": true
   },
   "outputs": [
    {
     "name": "stdout",
     "output_type": "stream",
     "text": [
      "Requirement already satisfied: selenium in c:\\users\\mrk_lenovo_pc\\anaconda3\\lib\\site-packages (4.22.0)\n",
      "Collecting webdriver-manager\n",
      "  Obtaining dependency information for webdriver-manager from https://files.pythonhosted.org/packages/b1/51/b5c11cf739ac4eecde611794a0ec9df420d0239d51e73bc19eb44f02b48b/webdriver_manager-4.0.1-py2.py3-none-any.whl.metadata\n",
      "  Downloading webdriver_manager-4.0.1-py2.py3-none-any.whl.metadata (12 kB)\n",
      "Requirement already satisfied: requests in c:\\users\\mrk_lenovo_pc\\anaconda3\\lib\\site-packages (2.31.0)\n",
      "Requirement already satisfied: Pillow in c:\\users\\mrk_lenovo_pc\\anaconda3\\lib\\site-packages (10.2.0)\n",
      "Requirement already satisfied: colorthief in c:\\users\\mrk_lenovo_pc\\anaconda3\\lib\\site-packages (0.2.1)\n",
      "Requirement already satisfied: urllib3[socks]<3,>=1.26 in c:\\users\\mrk_lenovo_pc\\anaconda3\\lib\\site-packages (from selenium) (1.26.16)\n",
      "Requirement already satisfied: trio~=0.17 in c:\\users\\mrk_lenovo_pc\\anaconda3\\lib\\site-packages (from selenium) (0.25.1)\n",
      "Requirement already satisfied: trio-websocket~=0.9 in c:\\users\\mrk_lenovo_pc\\anaconda3\\lib\\site-packages (from selenium) (0.11.1)\n",
      "Requirement already satisfied: certifi>=2021.10.8 in c:\\users\\mrk_lenovo_pc\\anaconda3\\lib\\site-packages (from selenium) (2024.6.2)\n",
      "Requirement already satisfied: typing_extensions>=4.9.0 in c:\\users\\mrk_lenovo_pc\\anaconda3\\lib\\site-packages (from selenium) (4.11.0)\n",
      "Requirement already satisfied: websocket-client>=1.8.0 in c:\\users\\mrk_lenovo_pc\\anaconda3\\lib\\site-packages (from selenium) (1.8.0)\n",
      "Requirement already satisfied: python-dotenv in c:\\users\\mrk_lenovo_pc\\anaconda3\\lib\\site-packages (from webdriver-manager) (0.21.0)\n",
      "Requirement already satisfied: packaging in c:\\users\\mrk_lenovo_pc\\anaconda3\\lib\\site-packages (from webdriver-manager) (23.1)\n",
      "Requirement already satisfied: charset-normalizer<4,>=2 in c:\\users\\mrk_lenovo_pc\\anaconda3\\lib\\site-packages (from requests) (2.0.4)\n",
      "Requirement already satisfied: idna<4,>=2.5 in c:\\users\\mrk_lenovo_pc\\anaconda3\\lib\\site-packages (from requests) (3.4)\n",
      "Requirement already satisfied: attrs>=23.2.0 in c:\\users\\mrk_lenovo_pc\\anaconda3\\lib\\site-packages (from trio~=0.17->selenium) (23.2.0)\n",
      "Requirement already satisfied: sortedcontainers in c:\\users\\mrk_lenovo_pc\\anaconda3\\lib\\site-packages (from trio~=0.17->selenium) (2.4.0)\n",
      "Requirement already satisfied: outcome in c:\\users\\mrk_lenovo_pc\\anaconda3\\lib\\site-packages (from trio~=0.17->selenium) (1.3.0.post0)\n",
      "Requirement already satisfied: sniffio>=1.3.0 in c:\\users\\mrk_lenovo_pc\\anaconda3\\lib\\site-packages (from trio~=0.17->selenium) (1.3.0)\n",
      "Requirement already satisfied: cffi>=1.14 in c:\\users\\mrk_lenovo_pc\\anaconda3\\lib\\site-packages (from trio~=0.17->selenium) (1.15.1)\n",
      "Requirement already satisfied: wsproto>=0.14 in c:\\users\\mrk_lenovo_pc\\anaconda3\\lib\\site-packages (from trio-websocket~=0.9->selenium) (1.2.0)\n",
      "Requirement already satisfied: PySocks!=1.5.7,<2.0,>=1.5.6 in c:\\users\\mrk_lenovo_pc\\anaconda3\\lib\\site-packages (from urllib3[socks]<3,>=1.26->selenium) (1.7.1)\n",
      "Requirement already satisfied: pycparser in c:\\users\\mrk_lenovo_pc\\anaconda3\\lib\\site-packages (from cffi>=1.14->trio~=0.17->selenium) (2.21)\n",
      "Requirement already satisfied: h11<1,>=0.9.0 in c:\\users\\mrk_lenovo_pc\\anaconda3\\lib\\site-packages (from wsproto>=0.14->trio-websocket~=0.9->selenium) (0.14.0)\n",
      "Downloading webdriver_manager-4.0.1-py2.py3-none-any.whl (27 kB)\n",
      "Installing collected packages: webdriver-manager\n",
      "Successfully installed webdriver-manager-4.0.1\n",
      "Note: you may need to restart the kernel to use updated packages.\n"
     ]
    }
   ],
   "source": [
    "pip install selenium webdriver-manager requests Pillow colorthief"
   ]
  },
  {
   "cell_type": "code",
   "execution_count": 11,
   "id": "4584f22a",
   "metadata": {},
   "outputs": [
    {
     "name": "stdout",
     "output_type": "stream",
     "text": [
      "Requirement already satisfied: webcolors in c:\\users\\mrk_lenovo_pc\\anaconda3\\lib\\site-packages (24.6.0)\n",
      "Note: you may need to restart the kernel to use updated packages.\n"
     ]
    }
   ],
   "source": [
    "pip install webcolors"
   ]
  },
  {
   "cell_type": "code",
   "execution_count": 17,
   "id": "79bbc1c0",
   "metadata": {},
   "outputs": [
    {
     "name": "stdout",
     "output_type": "stream",
     "text": [
      "Logo URL:\n",
      "https://fls-na.amazon.com/1/batch/1/OP/ATVPDKIKX0DER:130-2828483-9032340:HFAV9BXSDCSYBNM3HY0A$uedata=s:%2Frd%2Fuedata%3Fstaticb%26id%3DHFAV9BXSDCSYBNM3HY0A:0\n",
      "\n",
      "Primary Colors:\n",
      "['#242e3a', '#f1e1d2', '#9e4e42', '#e6b229', '#b7997b']\n",
      "\n",
      "Button Colors:\n",
      "['#ffffff', '#ffd814']\n",
      "\n",
      "Recommended Button Color:\n",
      "#56779c\n"
     ]
    }
   ],
   "source": [
    "import io\n",
    "import requests\n",
    "from PIL import Image\n",
    "from colorthief import ColorThief\n",
    "from selenium import webdriver\n",
    "from selenium.webdriver.chrome.service import Service\n",
    "from selenium.webdriver.chrome.options import Options\n",
    "from selenium.webdriver.common.by import By\n",
    "from webdriver_manager.chrome import ChromeDriverManager\n",
    "from selenium.webdriver.support.ui import WebDriverWait\n",
    "from selenium.webdriver.support import expected_conditions as EC\n",
    "\n",
    "def get_image_from_url(url):\n",
    "    response = requests.get(url)\n",
    "    return Image.open(io.BytesIO(response.content))\n",
    "\n",
    "def get_dominant_colors(image_data, num_colors=5):\n",
    "    color_thief = ColorThief(image_data)\n",
    "    palette = color_thief.get_palette(color_count=num_colors)\n",
    "    return ['#{:02x}{:02x}{:02x}'.format(r, g, b) for r, g, b in palette]\n",
    "\n",
    "def extract_logo(driver):\n",
    "    selectors = [\n",
    "        \"img[src*='logo']\",\n",
    "        \"img[alt*='logo']\",\n",
    "        \"a[class*='logo'] img\",\n",
    "        \"div[class*='logo'] img\",\n",
    "        \"header img\",\n",
    "        \"img\" \n",
    "    ]\n",
    "    for selector in selectors:\n",
    "        try:\n",
    "            logos = driver.find_elements(By.CSS_SELECTOR, selector)\n",
    "            if logos:\n",
    "                return logos[0].get_attribute('src')\n",
    "        except Exception as e:\n",
    "            print(f\"Error finding logo with selector {selector}: {e}\")\n",
    "    print(\"Logo not found\")\n",
    "    return None\n",
    "\n",
    "def extract_primary_colors(driver):\n",
    "    screenshot = driver.get_screenshot_as_png()\n",
    "    image_data = io.BytesIO(screenshot)\n",
    "    return get_dominant_colors(image_data)\n",
    "\n",
    "def extract_button_colors(driver):\n",
    "    button_like_elements = driver.find_elements(By.CSS_SELECTOR, \"button, a[class*='button'], div[class*='button'], span[class*='button']\")\n",
    "    colors = set()\n",
    "    for element in button_like_elements:\n",
    "        try:\n",
    "            color = element.value_of_css_property('background-color')\n",
    "            if color != 'rgba(0, 0, 0, 0)' and color != 'transparent':\n",
    "                colors.add(color)\n",
    "        except Exception as e:\n",
    "            print(f\"Error extracting button color: {e}\")\n",
    "    return [rgb_to_hex(color) for color in colors]\n",
    "\n",
    "def rgb_to_hex(rgb):\n",
    "    try:\n",
    "        rgb = rgb.strip('rgba()').split(',')\n",
    "        return '#{:02x}{:02x}{:02x}'.format(*map(int, rgb[:3]))\n",
    "    except Exception as e:\n",
    "        print(f\"Error converting RGB to HEX: {e}\")\n",
    "        return None\n",
    "\n",
    "def recommend_button_color(primary_colors):\n",
    "    try:\n",
    "        rgb_colors = [tuple(int(color.lstrip('#')[i:i+2], 16) for i in (0, 2, 4)) for color in primary_colors]\n",
    "        avg_color = tuple(sum(color[i] for color in rgb_colors) // len(rgb_colors) for i in range(3))\n",
    "        contrasting_color = tuple(255 - avg_color[i] for i in range(3))\n",
    "        return '#{:02x}{:02x}{:02x}'.format(*contrasting_color)\n",
    "    except Exception as e:\n",
    "        print(f\"Error recommending button color: {e}\")\n",
    "        return None\n",
    "\n",
    "def main(url):\n",
    "    options = Options()\n",
    "    options.add_argument('--headless')\n",
    "    options.add_argument('--disable-gpu')\n",
    "    options.add_argument('--no-sandbox')\n",
    "    options.add_argument('--disable-dev-shm-usage')\n",
    "    \n",
    "    driver = webdriver.Chrome(service=Service(ChromeDriverManager().install()), options=options)\n",
    "    try:\n",
    "        driver.get(url)\n",
    "        WebDriverWait(driver, 10).until(EC.presence_of_element_located((By.TAG_NAME, \"body\")))\n",
    "\n",
    "        logo_url = extract_logo(driver)\n",
    "        primary_colors = extract_primary_colors(driver)\n",
    "        button_colors = extract_button_colors(driver)\n",
    "        recommended_button_color = recommend_button_color(primary_colors)\n",
    "\n",
    "        # Outputs\n",
    "        print(\"Logo URL:\")\n",
    "        print(logo_url)\n",
    "        print(\"\\nPrimary Colors:\")\n",
    "        print(primary_colors)\n",
    "        print(\"\\nButton Colors:\")\n",
    "        print(button_colors)\n",
    "        print(\"\\nRecommended Button Color:\")\n",
    "        print(recommended_button_color)\n",
    "\n",
    "    except Exception as e:\n",
    "        print(f\"An error occurred: {e}\")\n",
    "    finally:\n",
    "        driver.quit()\n",
    "\n",
    "if __name__ == '__main__':\n",
    "    url = \"https://www.amazon.com\" \n",
    "    main(url)"
   ]
  },
  {
   "cell_type": "code",
   "execution_count": null,
   "id": "f4cde777",
   "metadata": {},
   "outputs": [],
   "source": []
  }
 ],
 "metadata": {
  "kernelspec": {
   "display_name": "Python 3 (ipykernel)",
   "language": "python",
   "name": "python3"
  },
  "language_info": {
   "codemirror_mode": {
    "name": "ipython",
    "version": 3
   },
   "file_extension": ".py",
   "mimetype": "text/x-python",
   "name": "python",
   "nbconvert_exporter": "python",
   "pygments_lexer": "ipython3",
   "version": "3.11.5"
  }
 },
 "nbformat": 4,
 "nbformat_minor": 5
}
