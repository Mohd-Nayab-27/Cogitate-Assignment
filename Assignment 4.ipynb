{
 "cells": [
  {
   "cell_type": "code",
   "execution_count": null,
   "id": "2f57fc38",
   "metadata": {},
   "outputs": [],
   "source": [
    "pip install requests beautifulsoup4"
   ]
  },
  {
   "cell_type": "code",
   "execution_count": 2,
   "id": "f747cfdc",
   "metadata": {},
   "outputs": [],
   "source": [
    "import requests\n",
    "from bs4 import BeautifulSoup\n",
    "import pandas as pd"
   ]
  },
  {
   "cell_type": "code",
   "execution_count": 3,
   "id": "f6f2a36d",
   "metadata": {},
   "outputs": [],
   "source": [
    "# Define the URL and headers\n",
    "url = \"https://www.firstcry.com/toys-learning-entertainment/5/0/0?ref2=cl_tle\"\n",
    "headers = {\n",
    "    \"User-Agent\": \"Mozilla/5.0 (Windows NT 10.0; Win64; x64) AppleWebKit/537.36 (KHTML, like Gecko) Chrome/91.0.4472.124 Safari/537.36\"\n",
    "}"
   ]
  },
  {
   "cell_type": "code",
   "execution_count": 4,
   "id": "669103f6",
   "metadata": {},
   "outputs": [
    {
     "data": {
      "text/html": [
       "<div style=\"display: inline-block; text-align: center;\"><div><img src=\"https://cdn.fcglcdn.com/brainbees/images/n/fc-logo-brandNew.png\" alt=\"Product Image\" style=\"width: 200px; margin: 10px;\"></div><div><b>Primary Color:</b> nan</div><div><b>Button Color:</b> nan</div></div>"
      ],
      "text/plain": [
       "<IPython.core.display.HTML object>"
      ]
     },
     "metadata": {},
     "output_type": "display_data"
    },
    {
     "data": {
      "text/html": [
       "<div style=\"display: inline-block; text-align: center;\"><div><img src=\"https://cdn.fcglcdn.com/brainbees/images/n/club_logo.png\" alt=\"Product Image\" style=\"width: 200px; margin: 10px;\"></div><div><b>Primary Color:</b> nan</div><div><b>Button Color:</b> nan</div></div>"
      ],
      "text/plain": [
       "<IPython.core.display.HTML object>"
      ]
     },
     "metadata": {},
     "output_type": "display_data"
    },
    {
     "data": {
      "text/html": [
       "<div style=\"display: inline-block; text-align: center;\"><div><img src=\"https://cdn.fcglcdn.com/brainbees/images/products/219x265/10064114a.webp\" alt=\"Product Image\" style=\"width: 200px; margin: 10px;\"></div><div><b>Primary Color:</b> nan</div><div><b>Button Color:</b> nan</div></div>"
      ],
      "text/plain": [
       "<IPython.core.display.HTML object>"
      ]
     },
     "metadata": {},
     "output_type": "display_data"
    },
    {
     "data": {
      "text/html": [
       "<div style=\"display: inline-block; text-align: center;\"><div><img src=\"https://cdn.fcglcdn.com/brainbees/images/tg_coupons_inside.png\" alt=\"Product Image\" style=\"width: 200px; margin: 10px;\"></div><div><b>Primary Color:</b> nan</div><div><b>Button Color:</b> nan</div></div>"
      ],
      "text/plain": [
       "<IPython.core.display.HTML object>"
      ]
     },
     "metadata": {},
     "output_type": "display_data"
    },
    {
     "data": {
      "text/html": [
       "<div style=\"display: inline-block; text-align: center;\"><div><img src=\"https://cdn.fcglcdn.com/brainbees/images/products/219x265/10127430a.webp\" alt=\"Product Image\" style=\"width: 200px; margin: 10px;\"></div><div><b>Primary Color:</b> nan</div><div><b>Button Color:</b> nan</div></div>"
      ],
      "text/plain": [
       "<IPython.core.display.HTML object>"
      ]
     },
     "metadata": {},
     "output_type": "display_data"
    },
    {
     "data": {
      "text/html": [
       "<div style=\"display: inline-block; text-align: center;\"><div><img src=\"https://cdn.fcglcdn.com/brainbees/images/products/219x265/10305360a.webp\" alt=\"Product Image\" style=\"width: 200px; margin: 10px;\"></div><div><b>Primary Color:</b> nan</div><div><b>Button Color:</b> nan</div></div>"
      ],
      "text/plain": [
       "<IPython.core.display.HTML object>"
      ]
     },
     "metadata": {},
     "output_type": "display_data"
    },
    {
     "data": {
      "text/html": [
       "<div style=\"display: inline-block; text-align: center;\"><div><img src=\"https://cdn.fcglcdn.com/brainbees/images/tg_coupons_inside.png\" alt=\"Product Image\" style=\"width: 200px; margin: 10px;\"></div><div><b>Primary Color:</b> nan</div><div><b>Button Color:</b> nan</div></div>"
      ],
      "text/plain": [
       "<IPython.core.display.HTML object>"
      ]
     },
     "metadata": {},
     "output_type": "display_data"
    },
    {
     "data": {
      "text/html": [
       "<div style=\"display: inline-block; text-align: center;\"><div><img src=\"https://cdn.fcglcdn.com/brainbees/images/products/219x265/10690532a.webp\" alt=\"Product Image\" style=\"width: 200px; margin: 10px;\"></div><div><b>Primary Color:</b> nan</div><div><b>Button Color:</b> nan</div></div>"
      ],
      "text/plain": [
       "<IPython.core.display.HTML object>"
      ]
     },
     "metadata": {},
     "output_type": "display_data"
    },
    {
     "data": {
      "text/html": [
       "<div style=\"display: inline-block; text-align: center;\"><div><img src=\"https://cdn.fcglcdn.com/brainbees/images/tg_coupons_inside.png\" alt=\"Product Image\" style=\"width: 200px; margin: 10px;\"></div><div><b>Primary Color:</b> nan</div><div><b>Button Color:</b> nan</div></div>"
      ],
      "text/plain": [
       "<IPython.core.display.HTML object>"
      ]
     },
     "metadata": {},
     "output_type": "display_data"
    },
    {
     "data": {
      "text/html": [
       "<div style=\"display: inline-block; text-align: center;\"><div><img src=\"https://cdn.fcglcdn.com/brainbees/images/products/219x265/11129148a.webp\" alt=\"Product Image\" style=\"width: 200px; margin: 10px;\"></div><div><b>Primary Color:</b> nan</div><div><b>Button Color:</b> nan</div></div>"
      ],
      "text/plain": [
       "<IPython.core.display.HTML object>"
      ]
     },
     "metadata": {},
     "output_type": "display_data"
    },
    {
     "data": {
      "text/html": [
       "<div style=\"display: inline-block; text-align: center;\"><div><img src=\"https://cdn.fcglcdn.com/brainbees/images/products/219x265/11245565a.webp\" alt=\"Product Image\" style=\"width: 200px; margin: 10px;\"></div><div><b>Primary Color:</b> nan</div><div><b>Button Color:</b> nan</div></div>"
      ],
      "text/plain": [
       "<IPython.core.display.HTML object>"
      ]
     },
     "metadata": {},
     "output_type": "display_data"
    },
    {
     "data": {
      "text/html": [
       "<div style=\"display: inline-block; text-align: center;\"><div><img src=\"https://cdn.fcglcdn.com/brainbees/images/products/219x265/11392549a.webp\" alt=\"Product Image\" style=\"width: 200px; margin: 10px;\"></div><div><b>Primary Color:</b> nan</div><div><b>Button Color:</b> nan</div></div>"
      ],
      "text/plain": [
       "<IPython.core.display.HTML object>"
      ]
     },
     "metadata": {},
     "output_type": "display_data"
    },
    {
     "data": {
      "text/html": [
       "<div style=\"display: inline-block; text-align: center;\"><div><img src=\"https://cdn.fcglcdn.com/brainbees/images/tg_coupons_inside.png\" alt=\"Product Image\" style=\"width: 200px; margin: 10px;\"></div><div><b>Primary Color:</b> nan</div><div><b>Button Color:</b> nan</div></div>"
      ],
      "text/plain": [
       "<IPython.core.display.HTML object>"
      ]
     },
     "metadata": {},
     "output_type": "display_data"
    },
    {
     "data": {
      "text/html": [
       "<div style=\"display: inline-block; text-align: center;\"><div><img src=\"https://cdn.fcglcdn.com/brainbees/images/products/219x265/13900238a.webp\" alt=\"Product Image\" style=\"width: 200px; margin: 10px;\"></div><div><b>Primary Color:</b> nan</div><div><b>Button Color:</b> nan</div></div>"
      ],
      "text/plain": [
       "<IPython.core.display.HTML object>"
      ]
     },
     "metadata": {},
     "output_type": "display_data"
    },
    {
     "data": {
      "text/html": [
       "<div style=\"display: inline-block; text-align: center;\"><div><img src=\"https://cdn.fcglcdn.com/brainbees/images/products/219x265/14252620a.webp\" alt=\"Product Image\" style=\"width: 200px; margin: 10px;\"></div><div><b>Primary Color:</b> nan</div><div><b>Button Color:</b> nan</div></div>"
      ],
      "text/plain": [
       "<IPython.core.display.HTML object>"
      ]
     },
     "metadata": {},
     "output_type": "display_data"
    },
    {
     "data": {
      "text/html": [
       "<div style=\"display: inline-block; text-align: center;\"><div><img src=\"https://cdn.fcglcdn.com/brainbees/images/products/219x265/14632282a.webp\" alt=\"Product Image\" style=\"width: 200px; margin: 10px;\"></div><div><b>Primary Color:</b> nan</div><div><b>Button Color:</b> nan</div></div>"
      ],
      "text/plain": [
       "<IPython.core.display.HTML object>"
      ]
     },
     "metadata": {},
     "output_type": "display_data"
    },
    {
     "data": {
      "text/html": [
       "<div style=\"display: inline-block; text-align: center;\"><div><img src=\"https://cdn.fcglcdn.com/brainbees/images/products/219x265/15437725a.webp\" alt=\"Product Image\" style=\"width: 200px; margin: 10px;\"></div><div><b>Primary Color:</b> nan</div><div><b>Button Color:</b> nan</div></div>"
      ],
      "text/plain": [
       "<IPython.core.display.HTML object>"
      ]
     },
     "metadata": {},
     "output_type": "display_data"
    },
    {
     "data": {
      "text/html": [
       "<div style=\"display: inline-block; text-align: center;\"><div><img src=\"https://cdn.fcglcdn.com/brainbees/images/products/219x265/15779201a.webp\" alt=\"Product Image\" style=\"width: 200px; margin: 10px;\"></div><div><b>Primary Color:</b> nan</div><div><b>Button Color:</b> nan</div></div>"
      ],
      "text/plain": [
       "<IPython.core.display.HTML object>"
      ]
     },
     "metadata": {},
     "output_type": "display_data"
    },
    {
     "data": {
      "text/html": [
       "<div style=\"display: inline-block; text-align: center;\"><div><img src=\"https://cdn.fcglcdn.com/brainbees/images/products/219x265/15954103a.webp\" alt=\"Product Image\" style=\"width: 200px; margin: 10px;\"></div><div><b>Primary Color:</b> nan</div><div><b>Button Color:</b> nan</div></div>"
      ],
      "text/plain": [
       "<IPython.core.display.HTML object>"
      ]
     },
     "metadata": {},
     "output_type": "display_data"
    },
    {
     "data": {
      "text/html": [
       "<div style=\"display: inline-block; text-align: center;\"><div><img src=\"https://cdn.fcglcdn.com/brainbees/images/products/219x265/2464834a.webp\" alt=\"Product Image\" style=\"width: 200px; margin: 10px;\"></div><div><b>Primary Color:</b> nan</div><div><b>Button Color:</b> nan</div></div>"
      ],
      "text/plain": [
       "<IPython.core.display.HTML object>"
      ]
     },
     "metadata": {},
     "output_type": "display_data"
    },
    {
     "data": {
      "text/html": [
       "<div style=\"display: inline-block; text-align: center;\"><div><img src=\"https://cdn.fcglcdn.com/brainbees/images/tg_coupons_inside.png\" alt=\"Product Image\" style=\"width: 200px; margin: 10px;\"></div><div><b>Primary Color:</b> nan</div><div><b>Button Color:</b> nan</div></div>"
      ],
      "text/plain": [
       "<IPython.core.display.HTML object>"
      ]
     },
     "metadata": {},
     "output_type": "display_data"
    },
    {
     "data": {
      "text/html": [
       "<div style=\"display: inline-block; text-align: center;\"><div><img src=\"https://cdn.fcglcdn.com/brainbees/images/products/219x265/8588847a.webp\" alt=\"Product Image\" style=\"width: 200px; margin: 10px;\"></div><div><b>Primary Color:</b> nan</div><div><b>Button Color:</b> nan</div></div>"
      ],
      "text/plain": [
       "<IPython.core.display.HTML object>"
      ]
     },
     "metadata": {},
     "output_type": "display_data"
    },
    {
     "data": {
      "text/html": [
       "<div style=\"display: inline-block; text-align: center;\"><div><img src=\"https://cdn.fcglcdn.com/brainbees/images/products/219x265/9597684a.webp\" alt=\"Product Image\" style=\"width: 200px; margin: 10px;\"></div><div><b>Primary Color:</b> nan</div><div><b>Button Color:</b> nan</div></div>"
      ],
      "text/plain": [
       "<IPython.core.display.HTML object>"
      ]
     },
     "metadata": {},
     "output_type": "display_data"
    },
    {
     "data": {
      "text/html": [
       "<div style=\"display: inline-block; text-align: center;\"><div><img src=\"https://cdn.fcglcdn.com/brainbees/images/products/219x265/9944861a.webp\" alt=\"Product Image\" style=\"width: 200px; margin: 10px;\"></div><div><b>Primary Color:</b> nan</div><div><b>Button Color:</b> nan</div></div>"
      ],
      "text/plain": [
       "<IPython.core.display.HTML object>"
      ]
     },
     "metadata": {},
     "output_type": "display_data"
    },
    {
     "data": {
      "text/html": [
       "<div style=\"display: inline-block; text-align: center;\"><div><img src=\"https://cdn.fcglcdn.com/brainbees/images/products/219x265/9945441a.webp\" alt=\"Product Image\" style=\"width: 200px; margin: 10px;\"></div><div><b>Primary Color:</b> nan</div><div><b>Button Color:</b> nan</div></div>"
      ],
      "text/plain": [
       "<IPython.core.display.HTML object>"
      ]
     },
     "metadata": {},
     "output_type": "display_data"
    },
    {
     "data": {
      "text/html": [
       "<div style=\"display: inline-block; text-align: center;\"><div><img src=\"https://cdn.fcglcdn.com/brainbees/images/products/219x265/11125244a.webp\" alt=\"Product Image\" style=\"width: 200px; margin: 10px;\"></div><div><b>Primary Color:</b> nan</div><div><b>Button Color:</b> nan</div></div>"
      ],
      "text/plain": [
       "<IPython.core.display.HTML object>"
      ]
     },
     "metadata": {},
     "output_type": "display_data"
    },
    {
     "data": {
      "text/html": [
       "<div style=\"display: inline-block; text-align: center;\"><div><img src=\"https://cdn.fcglcdn.com/brainbees/images/tg_most_gifted.png\" alt=\"Product Image\" style=\"width: 200px; margin: 10px;\"></div><div><b>Primary Color:</b> nan</div><div><b>Button Color:</b> nan</div></div>"
      ],
      "text/plain": [
       "<IPython.core.display.HTML object>"
      ]
     },
     "metadata": {},
     "output_type": "display_data"
    },
    {
     "data": {
      "text/html": [
       "<div style=\"display: inline-block; text-align: center;\"><div><img src=\"https://cdn.fcglcdn.com/brainbees/images/products/219x265/11388619a.webp\" alt=\"Product Image\" style=\"width: 200px; margin: 10px;\"></div><div><b>Primary Color:</b> nan</div><div><b>Button Color:</b> nan</div></div>"
      ],
      "text/plain": [
       "<IPython.core.display.HTML object>"
      ]
     },
     "metadata": {},
     "output_type": "display_data"
    },
    {
     "data": {
      "text/html": [
       "<div style=\"display: inline-block; text-align: center;\"><div><img src=\"https://cdn.fcglcdn.com/brainbees/images/tick-fc-png.png\" alt=\"Product Image\" style=\"width: 200px; margin: 10px;\"></div><div><b>Primary Color:</b> nan</div><div><b>Button Color:</b> nan</div></div>"
      ],
      "text/plain": [
       "<IPython.core.display.HTML object>"
      ]
     },
     "metadata": {},
     "output_type": "display_data"
    },
    {
     "data": {
      "text/html": [
       "<div style=\"display: inline-block; text-align: center;\"><div><img src=\"https://cdn.fcglcdn.com/brainbees/images/tick-fc-png.png\" alt=\"Product Image\" style=\"width: 200px; margin: 10px;\"></div><div><b>Primary Color:</b> nan</div><div><b>Button Color:</b> nan</div></div>"
      ],
      "text/plain": [
       "<IPython.core.display.HTML object>"
      ]
     },
     "metadata": {},
     "output_type": "display_data"
    },
    {
     "data": {
      "text/html": [
       "<div style=\"display: inline-block; text-align: center;\"><div><img src=\"https://cdn.fcglcdn.com/brainbees/images/n/ic_to_arrow.png\" alt=\"Product Image\" style=\"width: 200px; margin: 10px;\"></div><div><b>Primary Color:</b> nan</div><div><b>Button Color:</b> nan</div></div>"
      ],
      "text/plain": [
       "<IPython.core.display.HTML object>"
      ]
     },
     "metadata": {},
     "output_type": "display_data"
    },
    {
     "data": {
      "text/html": [
       "<div style=\"display: inline-block; text-align: center;\"><div><img src=\"https://cdn.fcglcdn.com/brainbees/images/LodingCart.gif\" alt=\"Product Image\" style=\"width: 200px; margin: 10px;\"></div><div><b>Primary Color:</b> nan</div><div><b>Button Color:</b> nan</div></div>"
      ],
      "text/plain": [
       "<IPython.core.display.HTML object>"
      ]
     },
     "metadata": {},
     "output_type": "display_data"
    },
    {
     "data": {
      "text/html": [
       "<div style=\"display: inline-block; text-align: center;\"><div><img src=\"https://cdn.fcglcdn.com/brainbees/images/newcpncode_img.png\" alt=\"Product Image\" style=\"width: 200px; margin: 10px;\"></div><div><b>Primary Color:</b> nan</div><div><b>Button Color:</b> nan</div></div>"
      ],
      "text/plain": [
       "<IPython.core.display.HTML object>"
      ]
     },
     "metadata": {},
     "output_type": "display_data"
    },
    {
     "data": {
      "text/html": [
       "<div style=\"display: inline-block; text-align: center;\"><div><img src=\"https://cdn.fcglcdn.com/brainbees/images/cpncode_invalid.gif\" alt=\"Product Image\" style=\"width: 200px; margin: 10px;\"></div><div><b>Primary Color:</b> nan</div><div><b>Button Color:</b> nan</div></div>"
      ],
      "text/plain": [
       "<IPython.core.display.HTML object>"
      ]
     },
     "metadata": {},
     "output_type": "display_data"
    },
    {
     "data": {
      "text/html": [
       "<div style=\"display: inline-block; text-align: center;\"><div><img src=\"https://cdn.fcglcdn.com/brainbees/images/cpncode_expird.gif\" alt=\"Product Image\" style=\"width: 200px; margin: 10px;\"></div><div><b>Primary Color:</b> nan</div><div><b>Button Color:</b> nan</div></div>"
      ],
      "text/plain": [
       "<IPython.core.display.HTML object>"
      ]
     },
     "metadata": {},
     "output_type": "display_data"
    }
   ],
   "source": [
    "import pandas as pd\n",
    "import requests\n",
    "from IPython.display import display, HTML\n",
    "\n",
    "# Load the CSV file into a Pandas DataFrame\n",
    "df = pd.read_csv('firstcry_images.csv')\n",
    "\n",
    "# Filter out rows with links (assuming links contain 'fc_logo', 'loader', or 'banner' in their path)\n",
    "df = df[~df['Image Source'].str.contains('fc_logo|loader|banner')]\n",
    "\n",
    "# Function to fetch image and display along with primary color and button color\n",
    "def display_image_with_colors(image_url, primary_color, button_color):\n",
    "    response = requests.get('https:' + image_url)\n",
    "    if response.status_code == 200:\n",
    "        img_tag = f'<img src=\"https:{image_url}\" alt=\"Product Image\" style=\"width: 200px; margin: 10px;\">'\n",
    "        html = f'<div style=\"display: inline-block; text-align: center;\"><div>{img_tag}</div><div><b>Primary Color:</b> {primary_color}</div><div><b>Button Color:</b> {button_color}</div></div>'\n",
    "        display(HTML(html))\n",
    "    else:\n",
    "        print(f\"Failed to retrieve image from URL: {image_url}\")\n",
    "\n",
    "# Iterate over each row in the DataFrame and display image with colors\n",
    "for index, row in df.iterrows():\n",
    "    image_url = row['Image Source']\n",
    "    primary_color = row['Primary Color']\n",
    "    button_color = row['Button Color']\n",
    "    \n",
    "    display_image_with_colors(image_url, primary_color, button_color)\n"
   ]
  },
  {
   "cell_type": "code",
   "execution_count": null,
   "id": "74e59169",
   "metadata": {},
   "outputs": [],
   "source": []
  },
  {
   "cell_type": "code",
   "execution_count": null,
   "id": "8b3fc798",
   "metadata": {},
   "outputs": [],
   "source": []
  },
  {
   "cell_type": "code",
   "execution_count": null,
   "id": "cb8d4bea",
   "metadata": {},
   "outputs": [],
   "source": []
  },
  {
   "cell_type": "code",
   "execution_count": null,
   "id": "53aaa7ff",
   "metadata": {},
   "outputs": [],
   "source": []
  }
 ],
 "metadata": {
  "kernelspec": {
   "display_name": "Python 3 (ipykernel)",
   "language": "python",
   "name": "python3"
  },
  "language_info": {
   "codemirror_mode": {
    "name": "ipython",
    "version": 3
   },
   "file_extension": ".py",
   "mimetype": "text/x-python",
   "name": "python",
   "nbconvert_exporter": "python",
   "pygments_lexer": "ipython3",
   "version": "3.11.5"
  }
 },
 "nbformat": 4,
 "nbformat_minor": 5
}
